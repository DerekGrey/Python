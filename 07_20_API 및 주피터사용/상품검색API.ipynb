{
 "cells": [
  {
   "cell_type": "code",
   "execution_count": 49,
   "metadata": {},
   "outputs": [],
   "source": [
    "import sys"
   ]
  },
  {
   "cell_type": "code",
   "execution_count": 50,
   "metadata": {},
   "outputs": [],
   "source": [
    "import argparse"
   ]
  },
  {
   "cell_type": "code",
   "execution_count": 51,
   "metadata": {},
   "outputs": [],
   "source": [
    "import requests"
   ]
  },
  {
   "cell_type": "code",
   "execution_count": 52,
   "metadata": {},
   "outputs": [],
   "source": [
    "from PIL import Image, ImageDraw, ImageFont"
   ]
  },
  {
   "cell_type": "code",
   "execution_count": 53,
   "metadata": {},
   "outputs": [],
   "source": [
    "from io import BytesIO\n",
    "from collections import Counter"
   ]
  },
  {
   "cell_type": "code",
   "execution_count": 54,
   "metadata": {},
   "outputs": [],
   "source": [
    "API_URL = 'https://kapi.kakao.com/v1/vision/product/detect'\n",
    "MYAPP_KEY = 'c6404c94efa8b7a641890a1c0432c1c5'"
   ]
  },
  {
   "cell_type": "code",
   "execution_count": 55,
   "metadata": {},
   "outputs": [],
   "source": [
    "site = 'https://www.costco.co.kr/medias/sys_master/images/hc1/h99/10534762872862.jpg'"
   ]
  },
  {
   "cell_type": "code",
   "execution_count": 58,
   "metadata": {},
   "outputs": [
    {
     "name": "stdout",
     "output_type": "stream",
     "text": [
      "{'result': {'width': 596, 'height': 821, 'objects': [{'x1': 0.134228, 'y1': 0.297199, 'x2': 0.572148, 'y2': 0.753959, 'class': 'sandals'}]}}\n"
     ]
    }
   ],
   "source": [
    "def detect_product(image_url):\n",
    "    headers = {'Authorization': 'KakaoAK {}'.format(MYAPP_KEY)}\n",
    "\n",
    "    try:\n",
    "        data = { 'image_url' : image_url}\n",
    "        resp = requests.post(API_URL, headers=headers, data=data)\n",
    "        resp.raise_for_status()\n",
    "        return resp.json()\n",
    "    except Exception as e:\n",
    "        print(str(e))\n",
    "        sys.exit(0)\n",
    "\n",
    "def show_products(image_url, detection_result):\n",
    "    try:\n",
    "        image_resp = requests.get(image_url)\n",
    "        image_resp.raise_for_status()\n",
    "        file_jpgdata = BytesIO(image_resp.content)\n",
    "        image = Image.open(file_jpgdata)\n",
    "    except Exception as e:\n",
    "        print(str(e))\n",
    "        sys.exit(0)\n",
    "\n",
    "\n",
    "    draw = ImageDraw.Draw(image)\n",
    "    for obj in detection_result['result']['objects']:\n",
    "        x1 = int(obj['x1']*image.width)\n",
    "        y1 = int(obj['y1']*image.height)\n",
    "        x2 = int(obj['x2']*image.width)\n",
    "        y2 = int(obj['y2']*image.height)\n",
    "        draw.rectangle([(x1,y1), (x2, y2)], fill=None, outline=(255,0,0,255))\n",
    "        draw.text((x1+5,y1+5), obj['class'], (255,0,0))\n",
    "    del draw\n",
    "\n",
    "    return image\n",
    "\n",
    "if __name__ == \"__main__\":\n",
    "#     parser = argparse.ArgumentParser(description='Detect Products.')\n",
    "#     parser.add_argument('image_url', type=str, nargs='?',\n",
    "#         default=\"http://t1.daumcdn.net/alvolo/_vision/openapi/r2/images/06.jpg\",\n",
    "#         help='image url to show product\\'s rect')\n",
    "\n",
    "#     args = parser.parse_args()\n",
    "    image_url='https://mn.kbs.co.kr/data/fckeditor/new/image/0104_food1.jpg'\n",
    "    detection_result = detect_product(image_url)\n",
    "    print(detection_result)\n",
    "    image = show_products(image_url, detection_result)\n",
    "    image.show()"
   ]
  },
  {
   "cell_type": "code",
   "execution_count": 47,
   "metadata": {},
   "outputs": [
    {
     "ename": "NameError",
     "evalue": "name 'detection_result' is not defined",
     "output_type": "error",
     "traceback": [
      "\u001b[1;31m---------------------------------------------------------------------------\u001b[0m",
      "\u001b[1;31mNameError\u001b[0m                                 Traceback (most recent call last)",
      "\u001b[1;32m<ipython-input-47-de4c6b991156>\u001b[0m in \u001b[0;36m<module>\u001b[1;34m\u001b[0m\n\u001b[1;32m----> 1\u001b[1;33m \u001b[0mresult\u001b[0m \u001b[1;33m=\u001b[0m \u001b[0mdetection_result\u001b[0m\u001b[1;33m[\u001b[0m\u001b[1;34m'result'\u001b[0m\u001b[1;33m]\u001b[0m\u001b[1;33m\u001b[0m\u001b[1;33m\u001b[0m\u001b[0m\n\u001b[0m\u001b[0;32m      2\u001b[0m \u001b[0mtest\u001b[0m \u001b[1;33m=\u001b[0m \u001b[0mresult\u001b[0m\u001b[1;33m[\u001b[0m\u001b[1;34m'objects'\u001b[0m\u001b[1;33m]\u001b[0m\u001b[1;33m\u001b[0m\u001b[1;33m\u001b[0m\u001b[0m\n\u001b[0;32m      3\u001b[0m \u001b[1;33m\u001b[0m\u001b[0m\n\u001b[0;32m      4\u001b[0m \u001b[0mproducts\u001b[0m \u001b[1;33m=\u001b[0m \u001b[1;33m[\u001b[0m\u001b[1;33m]\u001b[0m\u001b[1;33m\u001b[0m\u001b[1;33m\u001b[0m\u001b[0m\n\u001b[0;32m      5\u001b[0m \u001b[1;32mfor\u001b[0m \u001b[0ma\u001b[0m \u001b[1;32min\u001b[0m \u001b[0mtest\u001b[0m\u001b[1;33m:\u001b[0m\u001b[1;33m\u001b[0m\u001b[1;33m\u001b[0m\u001b[0m\n",
      "\u001b[1;31mNameError\u001b[0m: name 'detection_result' is not defined"
     ]
    }
   ],
   "source": [
    "result = detection_result['result']\n",
    "test = result['objects']\n",
    "\n",
    "products = [] \n",
    "for a in test:\n",
    "    products.append(a['class'])\n",
    "    \n",
    "print('상품 이미지 분석 :', products)"
   ]
  },
  {
   "cell_type": "raw",
   "metadata": {},
   "source": [
    "count = Counter(products)\n",
    "print(count)"
   ]
  },
  {
   "cell_type": "code",
   "execution_count": 48,
   "metadata": {},
   "outputs": [
    {
     "ename": "NameError",
     "evalue": "name 'count' is not defined",
     "output_type": "error",
     "traceback": [
      "\u001b[1;31m---------------------------------------------------------------------------\u001b[0m",
      "\u001b[1;31mNameError\u001b[0m                                 Traceback (most recent call last)",
      "\u001b[1;32m<ipython-input-48-d8d26e5d04cb>\u001b[0m in \u001b[0;36m<module>\u001b[1;34m\u001b[0m\n\u001b[1;32m----> 1\u001b[1;33m \u001b[0mmax\u001b[0m\u001b[1;33m(\u001b[0m\u001b[0mcount\u001b[0m\u001b[1;33m)\u001b[0m\u001b[1;33m\u001b[0m\u001b[1;33m\u001b[0m\u001b[0m\n\u001b[0m\u001b[0;32m      2\u001b[0m \u001b[0minter\u001b[0m \u001b[1;33m=\u001b[0m \u001b[0mmax\u001b[0m\u001b[1;33m(\u001b[0m\u001b[0mcount\u001b[0m\u001b[1;33m)\u001b[0m\u001b[1;33m\u001b[0m\u001b[1;33m\u001b[0m\u001b[0m\n\u001b[0;32m      3\u001b[0m \u001b[0mprint\u001b[0m\u001b[1;33m(\u001b[0m\u001b[0minter\u001b[0m\u001b[1;33m)\u001b[0m\u001b[1;33m\u001b[0m\u001b[1;33m\u001b[0m\u001b[0m\n",
      "\u001b[1;31mNameError\u001b[0m: name 'count' is not defined"
     ]
    }
   ],
   "source": [
    "max(count)\n",
    "inter = max(count)\n",
    "print(inter)"
   ]
  },
  {
   "cell_type": "code",
   "execution_count": null,
   "metadata": {},
   "outputs": [],
   "source": []
  },
  {
   "cell_type": "code",
   "execution_count": null,
   "metadata": {},
   "outputs": [],
   "source": []
  },
  {
   "cell_type": "code",
   "execution_count": null,
   "metadata": {},
   "outputs": [],
   "source": []
  }
 ],
 "metadata": {
  "kernelspec": {
   "display_name": "Python 3",
   "language": "python",
   "name": "python3"
  },
  "language_info": {
   "codemirror_mode": {
    "name": "ipython",
    "version": 3
   },
   "file_extension": ".py",
   "mimetype": "text/x-python",
   "name": "python",
   "nbconvert_exporter": "python",
   "pygments_lexer": "ipython3",
   "version": "3.7.4"
  }
 },
 "nbformat": 4,
 "nbformat_minor": 2
}
