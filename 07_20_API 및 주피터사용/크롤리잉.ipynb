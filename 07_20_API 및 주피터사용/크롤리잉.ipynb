{
 "cells": [
  {
   "cell_type": "code",
   "execution_count": 30,
   "metadata": {
    "colab": {
     "base_uri": "https://localhost:8080/",
     "height": 35
    },
    "colab_type": "code",
    "id": "01Wrc1S-AiWT",
    "outputId": "a4ac9fd3-b10e-425a-e260-33239b6123d9"
   },
   "outputs": [
    {
     "name": "stdout",
     "output_type": "stream",
     "text": [
      "저놐랩이에요\n"
     ]
    }
   ],
   "source": [
    "print('저놐랩이에요')"
   ]
  },
  {
   "cell_type": "code",
   "execution_count": 31,
   "metadata": {
    "colab": {},
    "colab_type": "code",
    "id": "Pu2Mt5BJAklZ"
   },
   "outputs": [],
   "source": [
    "a = 100\n",
    "b = 200"
   ]
  },
  {
   "cell_type": "code",
   "execution_count": 32,
   "metadata": {
    "colab": {
     "base_uri": "https://localhost:8080/",
     "height": 34
    },
    "colab_type": "code",
    "id": "u5VRj5gSAnNK",
    "outputId": "db0bf95e-a53d-4b6a-c471-22653acc677d"
   },
   "outputs": [
    {
     "name": "stdout",
     "output_type": "stream",
     "text": [
      "300\n"
     ]
    }
   ],
   "source": [
    "print(a+b)"
   ]
  },
  {
   "cell_type": "code",
   "execution_count": 33,
   "metadata": {
    "colab": {},
    "colab_type": "code",
    "id": "yIJ-fzK1Aojq"
   },
   "outputs": [],
   "source": [
    "from bs4  import BeautifulSoup"
   ]
  },
  {
   "cell_type": "code",
   "execution_count": 34,
   "metadata": {
    "colab": {},
    "colab_type": "code",
    "id": "pO4CRjLyDlE3"
   },
   "outputs": [],
   "source": [
    "import requests"
   ]
  },
  {
   "cell_type": "code",
   "execution_count": 35,
   "metadata": {
    "colab": {},
    "colab_type": "code",
    "id": "f9doulBQFLbl"
   },
   "outputs": [],
   "source": [
    "musinsa = requests.get(\"https://store.musinsa.com/app/contents/bestranking\")"
   ]
  },
  {
   "cell_type": "code",
   "execution_count": 36,
   "metadata": {
    "colab": {},
    "colab_type": "code",
    "id": "nJuM0FNuGY2O"
   },
   "outputs": [],
   "source": [
    "soup = BeautifulSoup(musinsa.content, \"html.parser\")"
   ]
  },
  {
   "cell_type": "code",
   "execution_count": 37,
   "metadata": {
    "colab": {},
    "colab_type": "code",
    "id": "5VrescvrGrnz"
   },
   "outputs": [],
   "source": [
    "rank_list = soup.select('.n-label label-default txt_num_rank')\n",
    "ranking = list()\n",
    "\n",
    "rank_test = soup.select('.li_box')"
   ]
  },
  {
   "cell_type": "code",
   "execution_count": 38,
   "metadata": {
    "colab": {
     "base_uri": "https://localhost:8080/",
     "height": 1000
    },
    "colab_type": "code",
    "id": "uyMRvq7NH5-L",
    "outputId": "5ffae46c-7340-4b6a-988c-24c1ac2b2c45"
   },
   "outputs": [
    {
     "name": "stdout",
     "output_type": "stream",
     "text": [
      "멀티 크로스바디백 MXEAAZX01CA\n",
      "---------------------절취선---------------------\n",
      "S/S AUTHENTIC LOGO TEE WHITE\n",
      "---------------------절취선---------------------\n",
      "6/29 배송 1931 OBJECT JEANS [CROP STRAIGHT]\n",
      "---------------------절취선---------------------\n",
      "슬립온 캡 - (체커보드) 블랙:트루 화이트 / VN0A3WM5HRK1\n",
      "---------------------절취선---------------------\n",
      "S/S WHALE GRAPHIC TEE BLACK\n",
      "---------------------절취선---------------------\n",
      "나일론 쿨 쇼어쇼츠 블랙\n",
      "---------------------절취선---------------------\n",
      "[패키지]아이스버그 반팔 STST3279 + 스플래쉬 반팔 STST3278\n",
      "---------------------절취선---------------------\n",
      "오즈위고 - 트리플블랙 / EE6999\n",
      "---------------------절취선---------------------\n",
      "S/S ARCH LOGO TEE WHITE/RED\n",
      "---------------------절취선---------------------\n",
      "20S/S #0237 trabus paint jeans\n",
      "---------------------절취선---------------------\n",
      "[쿨탠다드]쿨맥스 테이퍼드 히든 밴딩 크롭 슬랙스 [블랙]\n",
      "---------------------절취선---------------------\n",
      "Mine worker ST Develop / NewCrop\n",
      "---------------------절취선---------------------\n",
      "CXPEANUTS 70th SURFING SNOOPY TEE WHITE\n",
      "---------------------절취선---------------------\n",
      "라인 서퍼맨 티셔츠 화이트\n",
      "---------------------절취선---------------------\n",
      "갤럭시 버즈 플러스 블루투스이어폰 SM-R175\n",
      "---------------------절취선---------------------\n",
      "S/S WHALE GRAPHIC TEE WHITE\n",
      "---------------------절취선---------------------\n",
      "오션 레이아웃 로고 티셔츠 화이트\n",
      "---------------------절취선---------------------\n",
      "CORDURA AUTHENTIC LOGO RUCK SACK BLACK\n",
      "---------------------절취선---------------------\n",
      "척 70 시즈널 캔버스 문스톤바이올렛 167862C\n",
      "---------------------절취선---------------------\n",
      "취리히 SFB 타우페 1009532\n",
      "---------------------절취선---------------------\n",
      "아리조나 에바 블랙 129421\n",
      "---------------------절취선---------------------\n",
      "S/S AUTHENTIC LOGO TEE BLACK\n",
      "---------------------절취선---------------------\n",
      "LMC TWIRLED OG TEE black\n",
      "---------------------절취선---------------------\n",
      "CXPEANUTS 70th SURFING SNOOPY TEE NAVY\n",
      "---------------------절취선---------------------\n",
      "루즈핏 오픈카라 텐셀 린넨 셔츠 [오트밀]\n",
      "---------------------절취선---------------------\n",
      "CXPEANUTS 70th C LOGO TEE BLACK\n",
      "---------------------절취선---------------------\n",
      "나일론 쿨 쇼어쇼츠 카키베이지\n",
      "---------------------절취선---------------------\n",
      "알파바운스 슬라이드 - 블랙:화이트 / BA8775\n",
      "---------------------절취선---------------------\n",
      "서퍼맨 티셔츠 화이트\n",
      "---------------------절취선---------------------\n",
      "LMC THREE BEARS TEE white\n",
      "---------------------절취선---------------------\n",
      "라인 서퍼맨 티셔츠 블랙\n",
      "---------------------절취선---------------------\n",
      "루즈핏 오픈카라 텐셀 린넨 셔츠 [네이비]\n",
      "---------------------절취선---------------------\n",
      "WTRD4104  오스틴 스트랩샌들 매트블랙 [250~290MM]\n",
      "---------------------절취선---------------------\n",
      "7/16 배송 LMC 5th ANNIV RETRO MOON TEE black\n",
      "---------------------절취선---------------------\n",
      "NO.8 THE GOOD SHEPHERD_BLACK\n",
      "---------------------절취선---------------------\n",
      "NO.8 THE GOOD SHEPHERD_BROWN\n",
      "---------------------절취선---------------------\n",
      "어센틱 로고 티셔츠 블루\n",
      "---------------------절취선---------------------\n",
      "LOCATION SHORT SLEEVE JS [BLACK]\n",
      "---------------------절취선---------------------\n",
      "S/S LAYOUT LOGO TEE BLACK\n",
      "---------------------절취선---------------------\n",
      "CORDURA DAILY RUCKSACK BLACK\n",
      "---------------------절취선---------------------\n",
      "CXPEANUTS 70th C LOGO TEE WHITE\n",
      "---------------------절취선---------------------\n",
      "라인 서퍼맨 티셔츠 네이비\n",
      "---------------------절취선---------------------\n",
      "BW 독일군 스니커즈 - 화이트 / BZ0579\n",
      "---------------------절취선---------------------\n",
      "[패키지] BASIC HALF PANTS (11COLOR) [GSP821I23]\n",
      "---------------------절취선---------------------\n",
      "척 70 클래식  블랙 162058C\n",
      "---------------------절취선---------------------\n",
      "6/29 배송 1870 ESCAPE JEANS [BOOT CUT]\n",
      "---------------------절취선---------------------\n",
      "어센틱 - 화이트 / VN000EE3WHT1\n",
      "---------------------절취선---------------------\n",
      "그리폰 블랙 샌들 15695001\n",
      "---------------------절취선---------------------\n",
      "[쿨탠다드]쿨맥스 세미 와이드 히든 밴딩 슬랙스 [블랙]\n",
      "---------------------절취선---------------------\n",
      "[패키지] NYC LOCATION T-SHIRT (10 COLORS) [GTS721I23]\n",
      "---------------------절취선---------------------\n",
      "N202UTS910 스토크 오버핏 반팔 티셔츠 BLACK 2\n",
      "---------------------절취선---------------------\n",
      "BW 독일군 스니커즈 W - 화이트 / BZ0579\n",
      "---------------------절취선---------------------\n",
      "오버핏 버킷햇 (블랙)\n",
      "---------------------절취선---------------------\n",
      "[얇은Ver]20SS 미니멀 스탠다드 카고조거 슬랙스\n",
      "---------------------절취선---------------------\n",
      "라이트웨이트 테이퍼드 히든 밴딩 크롭 슬랙스 [블랙]\n",
      "---------------------절취선---------------------\n",
      "레이아웃 로고 티셔츠 아이보리\n",
      "---------------------절취선---------------------\n",
      "T-Logo Tee Black (002)\n",
      "---------------------절취선---------------------\n",
      "S/S AUTHENTIC LOGO TEE CHARCOAL\n",
      "---------------------절취선---------------------\n",
      "STANDARD DRAWERS 3 PACK (GRAY/NAVY/BLACK)\n",
      "---------------------절취선---------------------\n",
      "밴딩 와이드 슬랙스 P 035_BK\n",
      "---------------------절취선---------------------\n",
      "스몰 어센틱 로고 티셔츠 화이트\n",
      "---------------------절취선---------------------\n",
      "와이드 데님 팬츠 (LIGHT BLUE)\n",
      "---------------------절취선---------------------\n",
      "맨즈 허리케인 XLT2 / 1019234-BLK\n",
      "---------------------절취선---------------------\n",
      "7/8 배송 Overtime - MOD1\n",
      "---------------------절취선---------------------\n",
      "Punk Town - MOD4 crop\n",
      "---------------------절취선---------------------\n",
      "루즈핏 오픈카라 텐셀 린넨 셔츠 [블랙]\n",
      "---------------------절취선---------------------\n",
      "6/29 배송 서핀 백 프린트 티 셔츠_네이비\n",
      "---------------------절취선---------------------\n",
      "DANKER (댄커) 블랙 (U0323CBP92)\n",
      "---------------------절취선---------------------\n",
      "Code\n",
      "---------------------절취선---------------------\n",
      "척테일러 올스타 블랙 옥스 M9166C\n",
      "---------------------절취선---------------------\n",
      "S/S LAYOUT LOGO TEE WHITE\n",
      "---------------------절취선---------------------\n",
      "S/S LAYOUT LOGO TEE RED\n",
      "---------------------절취선---------------------\n",
      "7/20 배송 바시티 스몰 아치로고 루즈핏 반팔 티셔츠 (FE2RSC5113XCRM)\n",
      "---------------------절취선---------------------\n",
      "S/S C LOGO TEE GREEN\n",
      "---------------------절취선---------------------\n",
      "폴로 치노 베이스볼 캡-누벅\n",
      "---------------------절취선---------------------\n",
      "LMC THREE BEARS TEE navy\n",
      "---------------------절취선---------------------\n",
      "스우시 반바지 (블랙)\n",
      "---------------------절취선---------------------\n",
      "우먼즈 허리케인 XLT2 / 1019235-BLK\n",
      "---------------------절취선---------------------\n",
      "W 데이브레이크 - 블랙 화이트 / CK2351-001\n",
      "---------------------절취선---------------------\n",
      "테이퍼드 히든 밴딩 크롭 슬랙스 [블랙]\n",
      "---------------------절취선---------------------\n",
      "S/S SMALL AUTHENTIC LOGO TEE BLACK\n",
      "---------------------절취선---------------------\n",
      "AirPods 에어팟2세대 유선충전(MV7N2KH/A)\n",
      "---------------------절취선---------------------\n",
      "척 70 시즈널 캔버스 베네시안러스트 167703C\n",
      "---------------------절취선---------------------\n",
      "LMC TWIRLED OG TEE white\n",
      "---------------------절취선---------------------\n",
      "멀티 스트라이프 티셔츠 네이비\n",
      "---------------------절취선---------------------\n",
      "CORDURA AUTHENTIC LOGO SLING BAG BLACK\n",
      "---------------------절취선---------------------\n",
      "[썸머 ver.]유틸리티 와이드 카고 조거팬츠_Black\n",
      "---------------------절취선---------------------\n",
      "린넨보다 시원한 여름 에센셜 수트 (네이비)\n",
      "---------------------절취선---------------------\n",
      "CXPEANUTS 70th SURFING SNOOPY TEE MINT\n",
      "---------------------절취선---------------------\n",
      "알파바운스 슬라이드 - 화이트:블랙 / FX1326\n",
      "---------------------절취선---------------------\n"
     ]
    },
    {
     "ename": "IndexError",
     "evalue": "list index out of range",
     "output_type": "error",
     "traceback": [
      "\u001b[1;31m---------------------------------------------------------------------------\u001b[0m",
      "\u001b[1;31mIndexError\u001b[0m                                Traceback (most recent call last)",
      "\u001b[1;32m<ipython-input-38-7573f90a50b1>\u001b[0m in \u001b[0;36m<module>\u001b[1;34m\u001b[0m\n\u001b[0;32m      5\u001b[0m \u001b[0mtype\u001b[0m\u001b[1;33m(\u001b[0m\u001b[0mrank_test\u001b[0m\u001b[1;33m)\u001b[0m\u001b[1;33m\u001b[0m\u001b[1;33m\u001b[0m\u001b[0m\n\u001b[0;32m      6\u001b[0m \u001b[1;32mfor\u001b[0m \u001b[0mi\u001b[0m \u001b[1;32min\u001b[0m \u001b[0mrange\u001b[0m\u001b[1;33m(\u001b[0m\u001b[1;36m100\u001b[0m\u001b[1;33m)\u001b[0m \u001b[1;33m:\u001b[0m\u001b[1;33m\u001b[0m\u001b[1;33m\u001b[0m\u001b[0m\n\u001b[1;32m----> 7\u001b[1;33m   \u001b[0mpname\u001b[0m \u001b[1;33m=\u001b[0m \u001b[0mrank_test\u001b[0m\u001b[1;33m[\u001b[0m\u001b[0mi\u001b[0m\u001b[1;33m]\u001b[0m\u001b[1;33m.\u001b[0m\u001b[0mfind\u001b[0m\u001b[1;33m(\u001b[0m\u001b[1;34m'p'\u001b[0m\u001b[1;33m,\u001b[0m \u001b[1;33m{\u001b[0m\u001b[1;34m'class'\u001b[0m\u001b[1;33m:\u001b[0m\u001b[1;34m'list_info'\u001b[0m\u001b[1;33m}\u001b[0m\u001b[1;33m)\u001b[0m\u001b[1;33m.\u001b[0m\u001b[0mtext\u001b[0m\u001b[1;33m.\u001b[0m\u001b[0mstrip\u001b[0m\u001b[1;33m(\u001b[0m\u001b[1;33m)\u001b[0m\u001b[1;33m\u001b[0m\u001b[1;33m\u001b[0m\u001b[0m\n\u001b[0m\u001b[0;32m      8\u001b[0m   \u001b[0mrank\u001b[0m \u001b[1;33m=\u001b[0m \u001b[0mrank_test\u001b[0m\u001b[1;33m[\u001b[0m\u001b[0mi\u001b[0m\u001b[1;33m]\u001b[0m\u001b[1;33m.\u001b[0m\u001b[0mfind\u001b[0m\u001b[1;33m(\u001b[0m\u001b[1;34m'p'\u001b[0m\u001b[1;33m,\u001b[0m \u001b[1;33m{\u001b[0m\u001b[1;34m'class'\u001b[0m\u001b[1;33m:\u001b[0m\u001b[1;34m'n-label label-default txt_num_rank'\u001b[0m\u001b[1;33m}\u001b[0m\u001b[1;33m)\u001b[0m\u001b[1;33m.\u001b[0m\u001b[0mtext\u001b[0m\u001b[1;33m.\u001b[0m\u001b[0mstrip\u001b[0m\u001b[1;33m(\u001b[0m\u001b[1;33m)\u001b[0m\u001b[1;33m\u001b[0m\u001b[1;33m\u001b[0m\u001b[0m\n\u001b[0;32m      9\u001b[0m   \u001b[0mprice\u001b[0m \u001b[1;33m=\u001b[0m \u001b[0mrank_test\u001b[0m\u001b[1;33m[\u001b[0m\u001b[0mi\u001b[0m\u001b[1;33m]\u001b[0m\u001b[1;33m.\u001b[0m\u001b[0mfind\u001b[0m\u001b[1;33m(\u001b[0m\u001b[1;34m'p'\u001b[0m\u001b[1;33m,\u001b[0m \u001b[1;33m{\u001b[0m\u001b[1;34m'class'\u001b[0m\u001b[1;33m:\u001b[0m\u001b[1;34m'price'\u001b[0m\u001b[1;33m}\u001b[0m\u001b[1;33m)\u001b[0m\u001b[1;33m.\u001b[0m\u001b[0mtext\u001b[0m\u001b[1;33m.\u001b[0m\u001b[0mstrip\u001b[0m\u001b[1;33m(\u001b[0m\u001b[1;33m)\u001b[0m\u001b[1;33m\u001b[0m\u001b[1;33m\u001b[0m\u001b[0m\n",
      "\u001b[1;31mIndexError\u001b[0m: list index out of range"
     ]
    }
   ],
   "source": [
    "랭킹 = list()\n",
    "상품 = list()\n",
    "가격 = list()\n",
    "\n",
    "type(rank_test)\n",
    "for i in range(100) :\n",
    "  pname = rank_test[i].find('p', {'class':'list_info'}).text.strip()\n",
    "  rank = rank_test[i].find('p', {'class':'n-label label-default txt_num_rank'}).text.strip()\n",
    "  price = rank_test[i].find('p', {'class':'price'}).text.strip()\n",
    "  rank = rank[0:2]\n",
    "  rank = rank.replace('\\n', '')\n",
    "  rank = rank.replace('위', '')\n",
    "  print(pname)\n",
    "  price = price[0:8]\n",
    "  price = price.replace('\\t', '')\n",
    "  price = price.replace('원', '')\n",
    "  price = price.replace(',', '')\n",
    "  price = price[0:7]\n",
    "  랭킹.append(int(rank))\n",
    "  상품.append(pname)\n",
    "  가격.append(int(price))\n",
    "  print(\"---------------------절취선---------------------\")\n",
    "\n",
    "#top_200_list[i].find('span', {'class':'chart-element__rank__number'}).text, # re.compile() 사용하고 안하고 차이는 뭘까?\n",
    "# for i in rank_test:\n",
    "#   data = rank_test.select('n-label label-default txt_num_rank')[i].text()\n",
    "#   print(data)\n",
    "#for i in rank_list:\n",
    " #ranking.append(i.get_text())  "
   ]
  },
  {
   "cell_type": "code",
   "execution_count": 39,
   "metadata": {
    "colab": {
     "base_uri": "https://localhost:8080/",
     "height": 90
    },
    "colab_type": "code",
    "id": "gyz0txrYIETS",
    "outputId": "436642b6-16d7-485e-b863-3a49135c5153"
   },
   "outputs": [
    {
     "name": "stdout",
     "output_type": "stream",
     "text": [
      "['멀티 크로스바디백 MXEAAZX01CA', 'S/S AUTHENTIC LOGO TEE WHITE', '6/29 배송 1931 OBJECT JEANS [CROP STRAIGHT]', '슬립온 캡 - (체커보드) 블랙:트루 화이트 / VN0A3WM5HRK1', 'S/S WHALE GRAPHIC TEE BLACK', '나일론 쿨 쇼어쇼츠 블랙', '[패키지]아이스버그 반팔 STST3279 + 스플래쉬 반팔 STST3278', '오즈위고 - 트리플블랙 / EE6999', 'S/S ARCH LOGO TEE WHITE/RED', '20S/S #0237 trabus paint jeans', '[쿨탠다드]쿨맥스 테이퍼드 히든 밴딩 크롭 슬랙스 [블랙]', 'Mine worker ST Develop / NewCrop', 'CXPEANUTS 70th SURFING SNOOPY TEE WHITE', '라인 서퍼맨 티셔츠 화이트', '갤럭시 버즈 플러스 블루투스이어폰 SM-R175', 'S/S WHALE GRAPHIC TEE WHITE', '오션 레이아웃 로고 티셔츠 화이트', 'CORDURA AUTHENTIC LOGO RUCK SACK BLACK', '척 70 시즈널 캔버스 문스톤바이올렛 167862C', '취리히 SFB 타우페 1009532', '아리조나 에바 블랙 129421', 'S/S AUTHENTIC LOGO TEE BLACK', 'LMC TWIRLED OG TEE black', 'CXPEANUTS 70th SURFING SNOOPY TEE NAVY', '루즈핏 오픈카라 텐셀 린넨 셔츠 [오트밀]', 'CXPEANUTS 70th C LOGO TEE BLACK', '나일론 쿨 쇼어쇼츠 카키베이지', '알파바운스 슬라이드 - 블랙:화이트 / BA8775', '서퍼맨 티셔츠 화이트', 'LMC THREE BEARS TEE white', '라인 서퍼맨 티셔츠 블랙', '루즈핏 오픈카라 텐셀 린넨 셔츠 [네이비]', 'WTRD4104  오스틴 스트랩샌들 매트블랙 [250~290MM]', '7/16 배송 LMC 5th ANNIV RETRO MOON TEE black', 'NO.8 THE GOOD SHEPHERD_BLACK', 'NO.8 THE GOOD SHEPHERD_BROWN', '어센틱 로고 티셔츠 블루', 'LOCATION SHORT SLEEVE JS [BLACK]', 'S/S LAYOUT LOGO TEE BLACK', 'CORDURA DAILY RUCKSACK BLACK', 'CXPEANUTS 70th C LOGO TEE WHITE', '라인 서퍼맨 티셔츠 네이비', 'BW 독일군 스니커즈 - 화이트 / BZ0579', '[패키지] BASIC HALF PANTS (11COLOR) [GSP821I23]', '척 70 클래식  블랙 162058C', '6/29 배송 1870 ESCAPE JEANS [BOOT CUT]', '어센틱 - 화이트 / VN000EE3WHT1', '그리폰 블랙 샌들 15695001', '[쿨탠다드]쿨맥스 세미 와이드 히든 밴딩 슬랙스 [블랙]', '[패키지] NYC LOCATION T-SHIRT (10 COLORS) [GTS721I23]', 'N202UTS910 스토크 오버핏 반팔 티셔츠 BLACK 2', 'BW 독일군 스니커즈 W - 화이트 / BZ0579', '오버핏 버킷햇 (블랙)', '[얇은Ver]20SS 미니멀 스탠다드 카고조거 슬랙스', '라이트웨이트 테이퍼드 히든 밴딩 크롭 슬랙스 [블랙]', '레이아웃 로고 티셔츠 아이보리', 'T-Logo Tee Black (002)', 'S/S AUTHENTIC LOGO TEE CHARCOAL', 'STANDARD DRAWERS 3 PACK (GRAY/NAVY/BLACK)', '밴딩 와이드 슬랙스 P 035_BK', '스몰 어센틱 로고 티셔츠 화이트', '와이드 데님 팬츠 (LIGHT BLUE)', '맨즈 허리케인 XLT2 / 1019234-BLK', '7/8 배송 Overtime - MOD1', 'Punk Town - MOD4 crop', '루즈핏 오픈카라 텐셀 린넨 셔츠 [블랙]', '6/29 배송 서핀 백 프린트 티 셔츠_네이비', 'DANKER (댄커) 블랙 (U0323CBP92)', 'Code', '척테일러 올스타 블랙 옥스 M9166C', 'S/S LAYOUT LOGO TEE WHITE', 'S/S LAYOUT LOGO TEE RED', '7/20 배송 바시티 스몰 아치로고 루즈핏 반팔 티셔츠 (FE2RSC5113XCRM)', 'S/S C LOGO TEE GREEN', '폴로 치노 베이스볼 캡-누벅', 'LMC THREE BEARS TEE navy', '스우시 반바지 (블랙)', '우먼즈 허리케인 XLT2 / 1019235-BLK', 'W 데이브레이크 - 블랙 화이트 / CK2351-001', '테이퍼드 히든 밴딩 크롭 슬랙스 [블랙]', 'S/S SMALL AUTHENTIC LOGO TEE BLACK', 'AirPods 에어팟2세대 유선충전(MV7N2KH/A)', '척 70 시즈널 캔버스 베네시안러스트 167703C', 'LMC TWIRLED OG TEE white', '멀티 스트라이프 티셔츠 네이비', 'CORDURA AUTHENTIC LOGO SLING BAG BLACK', '[썸머 ver.]유틸리티 와이드 카고 조거팬츠_Black', '린넨보다 시원한 여름 에센셜 수트 (네이비)', 'CXPEANUTS 70th SURFING SNOOPY TEE MINT', '알파바운스 슬라이드 - 화이트:블랙 / FX1326']\n",
      "[1, 2, 3, 4, 5, 6, 7, 8, 9, 10, 11, 12, 13, 14, 15, 16, 17, 18, 19, 20, 21, 22, 23, 24, 25, 26, 27, 28, 29, 30, 31, 32, 33, 34, 35, 36, 37, 38, 39, 40, 41, 42, 43, 44, 45, 46, 47, 48, 49, 50, 51, 52, 53, 54, 55, 56, 57, 58, 59, 60, 61, 62, 63, 64, 65, 66, 67, 68, 69, 70, 71, 72, 73, 74, 75, 76, 77, 78, 79, 80, 81, 82, 83, 84, 85, 86, 87, 88, 89, 90]\n",
      "[198000, 39000, 78000, 75000, 39000, 49000, 47800, 129000, 39000, 98000, 34900, 89000, 39000, 39000, 179300, 39000, 39000, 89000, 95000, 139000, 59000, 39000, 39000, 39000, 60000, 39000, 49000, 59000, 39000, 39000, 39000, 60000, 54900, 39000, 99000, 99000, 39000, 39000, 39000, 89000, 39000, 39000, 139000, 56000, 89000, 78000, 59000, 190000, 34900, 58000, 39000, 139000, 37000, 89000, 32900, 39000, 39000, 39000, 39900, 39000, 39000, 49000, 79000, 109000, 98000, 60000, 35000, 149000, 245000, 55000, 39000, 39000, 32000, 39000, 59000, 39000, 49000, 79000, 119000, 32900, 39000, 199000, 89000, 39000, 39000, 49000, 48000, 173000, 39000, 59000]\n"
     ]
    }
   ],
   "source": [
    "print(상품)\n",
    "print(랭킹)\n",
    "print(가격)\n"
   ]
  },
  {
   "cell_type": "code",
   "execution_count": 40,
   "metadata": {
    "colab": {},
    "colab_type": "code",
    "id": "_SPTgIrEIiHR"
   },
   "outputs": [],
   "source": [
    "import csv    \n",
    "f = open('output.csv', 'w', encoding='utf-8', newline='')\n",
    "wr = csv.writer(f)\n",
    "wr.writerow(랭킹)\n",
    "wr.writerow(상품)\n",
    "wr.writerow(가격)\n",
    "f.close()"
   ]
  },
  {
   "cell_type": "markdown",
   "metadata": {
    "colab_type": "text",
    "id": "nH4Evr1TXpIr"
   },
   "source": [
    "# 새 섹션"
   ]
  },
  {
   "cell_type": "code",
   "execution_count": 41,
   "metadata": {
    "colab": {},
    "colab_type": "code",
    "id": "YunIGNMFXA0T"
   },
   "outputs": [],
   "source": [
    "import pandas as pd"
   ]
  },
  {
   "cell_type": "code",
   "execution_count": 42,
   "metadata": {
    "colab": {},
    "colab_type": "code",
    "id": "HDulgpSRYSuZ"
   },
   "outputs": [],
   "source": [
    "musinsas = pd.DataFrame({'ranks':랭킹, 'products':상품, 'price':가격 })"
   ]
  },
  {
   "cell_type": "code",
   "execution_count": 43,
   "metadata": {
    "colab": {
     "base_uri": "https://localhost:8080/",
     "height": 87
    },
    "colab_type": "code",
    "id": "ZmL7N3FCYoeu",
    "outputId": "1e9904c2-d86a-49ad-8d5e-319b8b37f99a"
   },
   "outputs": [
    {
     "data": {
      "text/plain": [
       "ranks        int64\n",
       "products    object\n",
       "price        int64\n",
       "dtype: object"
      ]
     },
     "execution_count": 43,
     "metadata": {},
     "output_type": "execute_result"
    }
   ],
   "source": [
    "musinsas.dtypes"
   ]
  },
  {
   "cell_type": "code",
   "execution_count": null,
   "metadata": {
    "colab": {},
    "colab_type": "code",
    "id": "wfRVz8ZdYoZg"
   },
   "outputs": [],
   "source": []
  },
  {
   "cell_type": "code",
   "execution_count": 44,
   "metadata": {
    "colab": {
     "base_uri": "https://localhost:8080/",
     "height": 265
    },
    "colab_type": "code",
    "id": "0MBdfKZtYkOh",
    "outputId": "311f4848-5b39-4aef-9520-262fa5219b81"
   },
   "outputs": [
    {
     "name": "stdout",
     "output_type": "stream",
     "text": [
      "    ranks                                   products   price\n",
      "0       1                      멀티 크로스바디백 MXEAAZX01CA  198000\n",
      "1       2               S/S AUTHENTIC LOGO TEE WHITE   39000\n",
      "2       3  6/29 배송 1931 OBJECT JEANS [CROP STRAIGHT]   78000\n",
      "3       4    슬립온 캡 - (체커보드) 블랙:트루 화이트 / VN0A3WM5HRK1   75000\n",
      "4       5                S/S WHALE GRAPHIC TEE BLACK   39000\n",
      "..    ...                                        ...     ...\n",
      "85     86     CORDURA AUTHENTIC LOGO SLING BAG BLACK   49000\n",
      "86     87            [썸머 ver.]유틸리티 와이드 카고 조거팬츠_Black   48000\n",
      "87     88                   린넨보다 시원한 여름 에센셜 수트 (네이비)  173000\n",
      "88     89     CXPEANUTS 70th SURFING SNOOPY TEE MINT   39000\n",
      "89     90               알파바운스 슬라이드 - 화이트:블랙 / FX1326   59000\n",
      "\n",
      "[90 rows x 3 columns]\n"
     ]
    }
   ],
   "source": [
    "print(musinsas)"
   ]
  },
  {
   "cell_type": "code",
   "execution_count": 45,
   "metadata": {
    "colab": {
     "base_uri": "https://localhost:8080/",
     "height": 34
    },
    "colab_type": "code",
    "id": "OYJ7CTyKYlwh",
    "outputId": "6135e5aa-9100-44ec-a410-36b36bd26402"
   },
   "outputs": [
    {
     "name": "stdout",
     "output_type": "stream",
     "text": [
      "68494\n"
     ]
    }
   ],
   "source": [
    "#무신사스토어 상품 HOT100 평균가격 \n",
    "musinsa_mean_price = int(musinsas['price'].mean())\n",
    "print(int(musinsa_mean_price))"
   ]
  },
  {
   "cell_type": "code",
   "execution_count": 46,
   "metadata": {
    "colab": {
     "base_uri": "https://localhost:8080/",
     "height": 230
    },
    "colab_type": "code",
    "id": "2yTTtRrHaHtv",
    "outputId": "6d380b78-0011-44ef-f715-4421a739b7aa"
   },
   "outputs": [
    {
     "name": "stdout",
     "output_type": "stream",
     "text": [
      "0     198000\n",
      "1      39000\n",
      "2      78000\n",
      "3      75000\n",
      "4      39000\n",
      "       ...  \n",
      "85     49000\n",
      "86     48000\n",
      "87    173000\n",
      "88     39000\n",
      "89     59000\n",
      "Name: price, Length: 90, dtype: int64\n"
     ]
    }
   ],
   "source": [
    "print(musinsas['price'])"
   ]
  },
  {
   "cell_type": "code",
   "execution_count": 47,
   "metadata": {
    "colab": {},
    "colab_type": "code",
    "id": "SeQ4WGmUazte"
   },
   "outputs": [],
   "source": [
    "%matplotlib inline\n",
    "import matplotlib.pyplot as plt\n",
    "# matplotlib 폰트설정\n",
    "plt.rc('font', family='NanumGothic') # For Windows"
   ]
  },
  {
   "cell_type": "code",
   "execution_count": 48,
   "metadata": {
    "colab": {
     "base_uri": "https://localhost:8080/",
     "height": 1000
    },
    "colab_type": "code",
    "id": "kx5Fy_MBa_au",
    "outputId": "565c29b0-d447-463c-f828-4d1fbdd40827",
    "scrolled": true
   },
   "outputs": [
    {
     "data": {
      "text/plain": [
       "<BarContainer object of 90 artists>"
      ]
     },
     "execution_count": 48,
     "metadata": {},
     "output_type": "execute_result"
    },
    {
     "data": {
      "image/png": "[encoded data removed]",
      "text/plain": [
       "<Figure size 432x288 with 1 Axes>"
      ]
     },
     "metadata": {
      "needs_background": "light"
     },
     "output_type": "display_data"
    }
   ],
   "source": [
    "plt.bar(musinsas['products'],musinsas['price'])"
   ]
  },
  {
   "cell_type": "code",
   "execution_count": null,
   "metadata": {},
   "outputs": [],
   "source": []
  }
 ],
 "metadata": {
  "colab": {
   "collapsed_sections": [],
   "name": "크롤리잉.ipynb",
   "provenance": [],
   "toc_visible": true
  },
  "kernelspec": {
   "display_name": "Python 3",
   "language": "python",
   "name": "python3"
  },
  "language_info": {
   "codemirror_mode": {
    "name": "ipython",
    "version": 3
   },
   "file_extension": ".py",
   "mimetype": "text/x-python",
   "name": "python",
   "nbconvert_exporter": "python",
   "pygments_lexer": "ipython3",
   "version": "3.7.4"
  }
 },
 "nbformat": 4,
 "nbformat_minor": 1
}
