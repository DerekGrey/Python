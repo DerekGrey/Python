{
 "cells": [
  {
   "cell_type": "code",
   "execution_count": 10,
   "metadata": {},
   "outputs": [],
   "source": [
    "import sys"
   ]
  },
  {
   "cell_type": "code",
   "execution_count": 11,
   "metadata": {},
   "outputs": [],
   "source": [
    "import argparse"
   ]
  },
  {
   "cell_type": "code",
   "execution_count": 12,
   "metadata": {},
   "outputs": [],
   "source": [
    "import requests"
   ]
  },
  {
   "cell_type": "code",
   "execution_count": 13,
   "metadata": {},
   "outputs": [],
   "source": [
    "from collections import Counter"
   ]
  },
  {
   "cell_type": "code",
   "execution_count": 14,
   "metadata": {},
   "outputs": [],
   "source": [
    "API_URL = 'https://kapi.kakao.com/v1/vision/multitag/generate'\n",
    "MYAPP_KEY = 'c6404c94efa8b7a641890a1c0432c1c5'"
   ]
  },
  {
   "cell_type": "code",
   "execution_count": 34,
   "metadata": {},
   "outputs": [],
   "source": [
    "site = 'https://t1.daumcdn.net/cfile/blog/210A724D5687D0C715'\n",
    "sites = ['https://www.bmw.co.kr/content/dam/bmw/common/all-models/x-series/x6/2019/inspire/bmw-xseries-x6-inspire-mg-design-desktop-tablet-02.jpg',\n",
    "         'https://homecuisine.co.kr/files/attach/images/1462/126/031/5676ab7bc329b155470539ea8b17b644.JPG'         \n",
    "        ]"
   ]
  },
  {
   "cell_type": "code",
   "execution_count": 35,
   "metadata": {},
   "outputs": [],
   "source": [
    "#얘가 정한 객체를 가지고 송/수신 함\n",
    "#보내는 데이터 parser\n",
    "#파이썬에서는 ArgumentParser 일케쓰면 객체만드는거임.. 앞에 대문자잖아 ->!\n",
    "parser = argparse.ArgumentParser(description='')"
   ]
  },
  {
   "cell_type": "code",
   "execution_count": 36,
   "metadata": {},
   "outputs": [
    {
     "data": {
      "text/plain": [
       "_StoreAction(option_strings=[], dest='image_url', nargs='?', const=None, default='https://t1.daumcdn.net/cfile/blog/210A724D5687D0C715', type=<class 'str'>, choices=None, help='', metavar=None)"
      ]
     },
     "execution_count": 36,
     "metadata": {},
     "output_type": "execute_result"
    }
   ],
   "source": [
    "#request 할 데이터 설정\n",
    "parser.add_argument('image_url', type=str, nargs='?', default=site, help='') #image_url 뒤에 string 형식으로 쿼리를 붙여보냄"
   ]
  },
  {
   "cell_type": "code",
   "execution_count": 37,
   "metadata": {},
   "outputs": [],
   "source": [
    "#위에서 설정한 대로 데이터를 생성해줘."
   ]
  },
  {
   "cell_type": "code",
   "execution_count": 38,
   "metadata": {},
   "outputs": [
    {
     "name": "stderr",
     "output_type": "stream",
     "text": [
      "usage: ipykernel_launcher.py [-h] [image_url]\n",
      "ipykernel_launcher.py: error: unrecognized arguments: -f\n"
     ]
    },
    {
     "ename": "SystemExit",
     "evalue": "2",
     "output_type": "error",
     "traceback": [
      "An exception has occurred, use %tb to see the full traceback.\n",
      "\u001b[1;31mSystemExit\u001b[0m\u001b[1;31m:\u001b[0m 2\n"
     ]
    }
   ],
   "source": [
    "args = parser.parse_args()"
   ]
  },
  {
   "cell_type": "code",
   "execution_count": 39,
   "metadata": {},
   "outputs": [],
   "source": [
    "#head = {'Authorization':'KakaoAK {}'.format(MYAPP_KEY)}\n",
    "# data = {'image_url': site}\n",
    "\n",
    "# result = requests.post(API_URL, headers=head, data=data)\n",
    "# print(result)\n",
    "\n",
    "# print(result.content)\n",
    "# json = result.json()\n",
    "# result_json = json['result']\n",
    "\n",
    "# print(result_json)\n",
    "# data = result_json['label']\n",
    "# print(data)"
   ]
  },
  {
   "cell_type": "code",
   "execution_count": 40,
   "metadata": {},
   "outputs": [
    {
     "name": "stdout",
     "output_type": "stream",
     "text": [
      "전체 json은 {'result': {'label': ['car', 'human', 'outside'], 'label_kr': ['차량', '사람', '실외']}}\n",
      "result_json 은 {'label': ['car', 'human', 'outside'], 'label_kr': ['차량', '사람', '실외']}\n",
      "label 은 ['car', 'human', 'outside']\n",
      "['car', 'human', 'outside']\n",
      "전체 json은 {'result': {'label': ['food', 'pizza'], 'label_kr': ['음식', '피자']}}\n",
      "result_json 은 {'label': ['food', 'pizza'], 'label_kr': ['음식', '피자']}\n",
      "label 은 ['food', 'pizza']\n",
      "['food', 'pizza']\n"
     ]
    }
   ],
   "source": [
    "label_total = []\n",
    "for site in sites:\n",
    "    head = {'Authorization':'KakaoAK {}'.format(MYAPP_KEY)}\n",
    "    data={'image_url':site}\n",
    "    result =requests.post(API_URL,headers=head,data=data)\n",
    "#     print(result.content)\n",
    "    json = result.json()\n",
    "    print(\"전체 json은\", json)\n",
    "    result_json = json['result']\n",
    "    print(\"result_json 은\", result_json)\n",
    "    data = result_json['label']\n",
    "    print(\"label 은\", data)\n",
    "    print(data)\n",
    "    label_total.append(data)"
   ]
  },
  {
   "cell_type": "code",
   "execution_count": 41,
   "metadata": {},
   "outputs": [
    {
     "name": "stdout",
     "output_type": "stream",
     "text": [
      "[['car', 'human', 'outside'], ['food', 'pizza']]\n"
     ]
    }
   ],
   "source": [
    "print(label_total)"
   ]
  },
  {
   "cell_type": "code",
   "execution_count": 42,
   "metadata": {},
   "outputs": [
    {
     "name": "stdout",
     "output_type": "stream",
     "text": [
      "['car', 'human', 'outside', 'food', 'pizza']\n"
     ]
    }
   ],
   "source": [
    "result_eng = []\n",
    "for li in label_total:\n",
    "    for l in li:\n",
    "        result_eng.append(l)\n",
    "print(result_eng)"
   ]
  },
  {
   "cell_type": "code",
   "execution_count": 43,
   "metadata": {},
   "outputs": [
    {
     "name": "stdout",
     "output_type": "stream",
     "text": [
      "Counter({'car': 1, 'human': 1, 'outside': 1, 'food': 1, 'pizza': 1})\n"
     ]
    }
   ],
   "source": [
    "count = Counter(result_eng)\n",
    "print(count)"
   ]
  },
  {
   "cell_type": "code",
   "execution_count": null,
   "metadata": {},
   "outputs": [],
   "source": []
  },
  {
   "cell_type": "code",
   "execution_count": null,
   "metadata": {},
   "outputs": [],
   "source": []
  }
 ],
 "metadata": {
  "kernelspec": {
   "display_name": "Python 3",
   "language": "python",
   "name": "python3"
  },
  "language_info": {
   "codemirror_mode": {
    "name": "ipython",
    "version": 3
   },
   "file_extension": ".py",
   "mimetype": "text/x-python",
   "name": "python",
   "nbconvert_exporter": "python",
   "pygments_lexer": "ipython3",
   "version": "3.7.4"
  }
 },
 "nbformat": 4,
 "nbformat_minor": 2
}
