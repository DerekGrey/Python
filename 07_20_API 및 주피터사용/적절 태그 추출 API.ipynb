{
 "cells": [
  {
   "cell_type": "code",
   "execution_count": 2,
   "metadata": {},
   "outputs": [],
   "source": [
    "import sys\n",
    "import argparse\n",
    "import requests\n",
    "from PIL import Image, ImageDraw, ImageFont\n",
    "from io import BytesIO"
   ]
  },
  {
   "cell_type": "code",
   "execution_count": 3,
   "metadata": {},
   "outputs": [],
   "source": [
    "API_URL = 'https://kapi.kakao.com/v1/vision/multitag/generate'\n",
    "MYAPP_KEY = 'c6404c94efa8b7a641890a1c0432c1c5'"
   ]
  },
  {
   "cell_type": "code",
   "execution_count": 11,
   "metadata": {},
   "outputs": [
    {
     "name": "stdout",
     "output_type": "stream",
     "text": [
      "이미지를 대표하는 태그는 \"음식\"입니다.\n"
     ]
    }
   ],
   "source": [
    "def generate_tag(image_url):\n",
    "    headers = {'Authorization': 'KakaoAK {}'.format(MYAPP_KEY)}\n",
    "\n",
    "    try:\n",
    "        data = { 'image_url' : image_url}\n",
    "        resp = requests.post(API_URL, headers=headers, data=data)\n",
    "        resp.raise_for_status()\n",
    "        result = resp.json()['result']\n",
    "        if len(result['label_kr']) > 0:\n",
    "            if type(result['label_kr'][0]) != str:\n",
    "                result['label_kr'] = map(lambda x: str(x.encode(\"utf-8\")), result['label_kr'])\n",
    "            print(\"이미지를 대표하는 태그는 \\\"{}\\\"입니다.\".format(','.join(result['label_kr'])))\n",
    "        else:\n",
    "            print(\"이미지로부터 태그를 생성하지 못했습니다.\")\n",
    "\n",
    "    except Exception as e:\n",
    "        print(str(e))\n",
    "        sys.exit(0)\n",
    "\n",
    "#if __name__ == \"__main__\":\n",
    "#     parser = argparse.ArgumentParser(description='Classify Tags')\n",
    "#     parser.add_argument('image_url', type=str, nargs='?',\n",
    "#         default=\"http://t1.daumcdn.net/alvolo/_vision/openapi/r2/images/08.jpg\",\n",
    "#         help='image url to classify')\n",
    "\n",
    "#     args = parser.parse_args()\n",
    "image_url=\"https://mn.kbs.co.kr/data/fckeditor/new/image/0104_food1.jpg\"\n",
    "generate_tag(image_url)"
   ]
  },
  {
   "cell_type": "code",
   "execution_count": null,
   "metadata": {},
   "outputs": [],
   "source": []
  }
 ],
 "metadata": {
  "kernelspec": {
   "display_name": "Python 3",
   "language": "python",
   "name": "python3"
  },
  "language_info": {
   "codemirror_mode": {
    "name": "ipython",
    "version": 3
   },
   "file_extension": ".py",
   "mimetype": "text/x-python",
   "name": "python",
   "nbconvert_exporter": "python",
   "pygments_lexer": "ipython3",
   "version": "3.7.4"
  }
 },
 "nbformat": 4,
 "nbformat_minor": 2
}
